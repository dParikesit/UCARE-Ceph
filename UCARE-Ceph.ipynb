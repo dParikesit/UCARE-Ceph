{
 "cells": [
  {
   "cell_type": "code",
   "execution_count": 2,
   "id": "14b1af19-61c3-4a17-9bcd-3317bea2d053",
   "metadata": {},
   "outputs": [
    {
     "name": "stdout",
     "output_type": "stream",
     "text": [
      "Now using CHI@UC:\n",
      "URL: https://chi.uc.chameleoncloud.org\n",
      "Location: Argonne National Laboratory, Lemont, Illinois, USA\n",
      "Support contact: help@chameleoncloud.org\n"
     ]
    }
   ],
   "source": [
    "import chi\n",
    "\n",
    "chi.use_site(\"CHI@UC\")\n",
    "chi.set(\"project_name\", \"CH-822636\")\n",
    "chi.set(\"image\", \"CC-CentOS7\")\n",
    "chi.set(\"keypair_name\", \"dimas-ccloud\")"
   ]
  },
  {
   "cell_type": "code",
   "execution_count": 3,
   "id": "c11982c8-5ec6-4805-ad9c-5b74fdfbaf04",
   "metadata": {},
   "outputs": [
    {
     "name": "stdout",
     "output_type": "stream",
     "text": [
      "Waiting for lease to start ...\n",
      "Lease started!\n",
      "ip 1 = 192.5.86.248\n",
      "ip 1 = 192.5.87.174\n"
     ]
    }
   ],
   "source": [
    "from chi import lease\n",
    "\n",
    "res = []\n",
    "lease.add_node_reservation(res, node_type=\"compute_skylake\", count=2)\n",
    "lease.add_fip_reservation(res, count=2)\n",
    "start_date, end_date = lease.lease_duration(days=7)\n",
    "\n",
    "l = lease.create_lease(\"ceph-benchmark\", res, start_date=start_date, end_date=end_date)\n",
    "\n",
    "print(\"Waiting for lease to start ...\")\n",
    "\n",
    "l = lease.wait_for_active(l[\"id\"])\n",
    "\n",
    "print(\"Lease started!\")\n",
    "\n",
    "reserved_fips = lease.get_reserved_floating_ips(l[\"id\"])\n",
    "print(\"ip 1 =\",reserved_fips[0])\n",
    "print(\"ip 1 =\",reserved_fips[1])"
   ]
  },
  {
   "cell_type": "code",
   "execution_count": 4,
   "id": "161e5bbe-e5fe-4c44-b451-39d2a677b1a7",
   "metadata": {},
   "outputs": [
    {
     "name": "stdout",
     "output_type": "stream",
     "text": [
      "<Server: ceph-instance-2>\n",
      "Creating instance...\n",
      "Associating floating ip...\n",
      "Done!\n"
     ]
    }
   ],
   "source": [
    "from chi import server\n",
    "reservation_id = \"\"\n",
    "for item in l[\"reservations\"]:\n",
    "    if item[\"resource_type\"] == \"physical:host\":\n",
    "        reservation_id=item[\"id\"]\n",
    "\n",
    "instance = server.create_server(\n",
    "    \"ceph-instance\", \n",
    "    reservation_id=reservation_id,\n",
    "    count=2,\n",
    "    image_name=chi.get(\"image\")\n",
    ")\n",
    "\n",
    "print(instance[0])\n",
    "\n",
    "print(\"Creating instance...\")\n",
    "chi.server.wait_for_active(instance[0].id, timeout=1200)\n",
    "chi.server.wait_for_active(instance[1].id, timeout=1200)\n",
    "\n",
    "print(\"Associating floating ip...\")\n",
    "ip1 = server.associate_floating_ip(instance[0].id, reserved_fips[0])\n",
    "ip2 = server.associate_floating_ip(instance[1].id, reserved_fips[1])\n",
    "\n",
    "\n",
    "server.wait_for_tcp(ip1, port=22)\n",
    "server.wait_for_tcp(ip2, port=22)\n",
    "print(\"Done!\")"
   ]
  },
  {
   "cell_type": "code",
   "execution_count": null,
   "id": "aa876bd9-bd97-49fb-9284-5bbe97bfd8a0",
   "metadata": {},
   "outputs": [],
   "source": [
    "# ip1=\"129.114.109.223\"\n",
    "# ip2=\"129.114.109.253\""
   ]
  },
  {
   "cell_type": "code",
   "execution_count": 5,
   "id": "1b6ad062-028b-4386-bbda-c2b0037ee152",
   "metadata": {},
   "outputs": [],
   "source": [
    "from chi.ssh import Remote\n",
    "\n",
    "r1 = Remote(ip=ip1)\n",
    "r2 = Remote(ip=ip2)"
   ]
  },
  {
   "cell_type": "code",
   "execution_count": 7,
   "id": "af022374-7a6f-4c60-a1c1-febefcaf6aed",
   "metadata": {},
   "outputs": [
    {
     "name": "stdout",
     "output_type": "stream",
     "text": [
      "10.140.82.58 \n",
      "10.140.82.207 \n"
     ]
    },
    {
     "name": "stderr",
     "output_type": "stream",
     "text": [
      "/opt/conda/lib/python3.9/site-packages/paramiko/client.py:835: UserWarning: Unknown ssh-ed25519 host key for 192.5.87.174: b'2f329c4ffb0e77579326dea44f3679b3'\n",
      "  warnings.warn(\n"
     ]
    }
   ],
   "source": [
    "local1=r1.run(\"hostname -I\").stdout.strip()\n",
    "local2=r2.run(\"hostname -I\").stdout.strip()\n",
    "# local1=\"10.52.2.185\"\n",
    "# local2=\"10.52.0.31\""
   ]
  },
  {
   "cell_type": "code",
   "execution_count": 8,
   "id": "fdc5cae5-60a0-4396-8a52-f34bf5dfcce5",
   "metadata": {},
   "outputs": [
    {
     "name": "stdout",
     "output_type": "stream",
     "text": [
      "Hello world!\n",
      "Hello world!\n"
     ]
    },
    {
     "data": {
      "text/plain": [
       "<Result cmd='echo \"Hello world!\"' exited=0>"
      ]
     },
     "execution_count": 8,
     "metadata": {},
     "output_type": "execute_result"
    }
   ],
   "source": [
    "r1.run('echo \"Hello world!\"')\n",
    "r2.run('echo \"Hello world!\"')"
   ]
  },
  {
   "cell_type": "code",
   "execution_count": 9,
   "id": "23e90846-09ac-46ff-857e-926b78db629b",
   "metadata": {},
   "outputs": [],
   "source": [
    "rList = [r1,r2]"
   ]
  },
  {
   "cell_type": "markdown",
   "id": "b1ba5416-628f-4a5f-9d4d-6c2f34399b20",
   "metadata": {},
   "source": [
    "# Setup loop devices"
   ]
  },
  {
   "cell_type": "code",
   "execution_count": null,
   "id": "2aa88773-4081-4d9f-b809-03c5103b5bfd",
   "metadata": {},
   "outputs": [
    {
     "name": "stderr",
     "output_type": "stream",
     "text": [
      "250+0 records in\n",
      "250+0 records out\n",
      "26214400000 bytes (26 GB) copied, 18.8215 s, 1.4 GB/s\n",
      "250+0 records in\n",
      "250+0 records out\n",
      "26214400000 bytes (26 GB) copied, 21.1548 s, 1.2 GB/s\n",
      "250+0 records in\n",
      "250+0 records out\n",
      "26214400000 bytes (26 GB) copied, 22.5483 s, 1.2 GB/s\n",
      "250+0 records in\n",
      "250+0 records out\n",
      "26214400000 bytes (26 GB) copied, 45.4053 s, 577 MB/s\n",
      "250+0 records in\n",
      "250+0 records out\n",
      "26214400000 bytes (26 GB) copied, 55.4395 s, 473 MB/s\n",
      "mke2fs 1.42.9 (28-Dec-2013)\n"
     ]
    },
    {
     "name": "stdout",
     "output_type": "stream",
     "text": [
      "Created loop devices\n",
      "/mnt/extra/loop-files/loopbackfile1.img is not a block special device.\n",
      "Proceed anyway? (y,n) Discarding device blocks:    4096/640000 528384/6400002625536/6400004722688/6400006295552/640000              done                            \n",
      "Filesystem label=\n",
      "OS type: Linux\n",
      "Block size=4096 (log=2)\n",
      "Fragment size=4096 (log=2)\n",
      "Stride=0 blocks, Stripe width=0 blocks\n",
      "1602496 inodes, 6400000 blocks\n",
      "320000 blocks (5.00%) reserved for the super user\n",
      "First data block=0\n",
      "Maximum filesystem blocks=2155872256\n",
      "196 block groups\n",
      "32768 blocks per group, 32768 fragments per group\n",
      "8176 inodes per group\n",
      "Superblock backups stored on blocks: \n",
      "\t32768, 98304, 163840, 229376, 294912, 819200, 884736, 1605632, 2654208, \n",
      "\t4096000\n",
      "\n",
      "Allocating group tables:   0/19      done                            \n",
      "Writing inode tables:   0/19      done                            \n",
      "Creating journal (32768 blocks): done\n",
      "Writing superblocks and filesystem accounting information:   0/19      done\n",
      "\n"
     ]
    },
    {
     "name": "stderr",
     "output_type": "stream",
     "text": [
      "mke2fs 1.42.9 (28-Dec-2013)\n"
     ]
    },
    {
     "name": "stdout",
     "output_type": "stream",
     "text": [
      "/mnt/extra/loop-files/loopbackfile2.img is not a block special device.\n",
      "Proceed anyway? (y,n) Discarding device blocks:    4096/6400002101248/6400004198400/6400006295552/640000              done                            \n",
      "Filesystem label=\n",
      "OS type: Linux\n",
      "Block size=4096 (log=2)\n",
      "Fragment size=4096 (log=2)\n",
      "Stride=0 blocks, Stripe width=0 blocks\n",
      "1602496 inodes, 6400000 blocks\n",
      "320000 blocks (5.00%) reserved for the super user\n",
      "First data block=0\n",
      "Maximum filesystem blocks=2155872256\n",
      "196 block groups\n",
      "32768 blocks per group, 32768 fragments per group\n",
      "8176 inodes per group\n",
      "Superblock backups stored on blocks: \n",
      "\t32768, 98304, 163840, 229376, 294912, 819200, 884736, 1605632, 2654208, \n",
      "\t4096000\n",
      "\n",
      "Allocating group tables:   0/19      done                            \n",
      "Writing inode tables:   0/19      done                            \n",
      "Creating journal (32768 blocks): done\n",
      "Writing superblocks and filesystem accounting information:   0/19      "
     ]
    }
   ],
   "source": [
    "for r in rList:\n",
    "    r.run(\"sudo mkdir -p /mnt/extra\")\n",
    "    r.run(\"sudo chown cc /mnt/extra\")\n",
    "    r.run(\"mkdir -p /mnt/extra/loop-files/\")\n",
    "\n",
    "    # Create loop devices\n",
    "    with r.cd(\"/mnt/extra/loop-files/\"):\n",
    "        r.run(\"sudo dd if=/dev/zero of=loopbackfile1.img bs=100M count=250\")\n",
    "        r.run(\"sudo dd if=/dev/zero of=loopbackfile2.img bs=100M count=250\")\n",
    "        r.run(\"sudo dd if=/dev/zero of=loopbackfile3.img bs=100M count=250\")\n",
    "        r.run(\"sudo dd if=/dev/zero of=loopbackfile4.img bs=100M count=250\")\n",
    "        r.run(\"sudo dd if=/dev/zero of=loopbackfile5.img bs=100M count=250\")\n",
    "\n",
    "        r.run(\"sudo losetup -fP loopbackfile1.img\")\n",
    "        r.run(\"sudo losetup -fP loopbackfile2.img\")\n",
    "        r.run(\"sudo losetup -fP loopbackfile3.img\")\n",
    "        r.run(\"sudo losetup -fP loopbackfile4.img\")\n",
    "        r.run(\"sudo losetup -fP loopbackfile5.img\")\n",
    "    print(\"Created loop devices\")\n",
    "\n",
    "    # Format loop devices\n",
    "    r.run('printf \"y\" | sudo mkfs.ext4 /mnt/extra/loop-files/loopbackfile1.img')\n",
    "    r.run('printf \"y\" | sudo mkfs.ext4 /mnt/extra/loop-files/loopbackfile2.img')\n",
    "    r.run('printf \"y\" | sudo mkfs.ext4 /mnt/extra/loop-files/loopbackfile3.img')\n",
    "    r.run('printf \"y\" | sudo mkfs.ext4 /mnt/extra/loop-files/loopbackfile4.img')\n",
    "    r.run('printf \"y\" | sudo mkfs.ext4 /mnt/extra/loop-files/loopbackfile5.img')\n",
    "    print(\"Formatted loop devices\")\n",
    "\n",
    "    # Mount loop devices\n",
    "    r.run(\"mkdir -p /mnt/extra/loop-devs/loop0\")\n",
    "    r.run(\"mkdir -p /mnt/extra/loop-devs/loop1\")\n",
    "    r.run(\"mkdir -p /mnt/extra/loop-devs/loop2\")\n",
    "    r.run(\"mkdir -p /mnt/extra/loop-devs/loop3\")\n",
    "    r.run(\"mkdir -p /mnt/extra/loop-devs/loop4\")\n",
    "\n",
    "    with r.cd(\"/mnt/extra/loop-files/\"):\n",
    "        r.run(\"sudo mount -o loop /dev/loop0 /mnt/extra/loop-devs/loop0\")\n",
    "        r.run(\"sudo mount -o loop /dev/loop0 /mnt/extra/loop-devs/loop1\")\n",
    "        r.run(\"sudo mount -o loop /dev/loop0 /mnt/extra/loop-devs/loop2\")\n",
    "        r.run(\"sudo mount -o loop /dev/loop0 /mnt/extra/loop-devs/loop3\")\n",
    "        r.run(\"sudo mount -o loop /dev/loop0 /mnt/extra/loop-devs/loop4\")\n",
    "    print(\"Mounted loop devices\")"
   ]
  },
  {
   "cell_type": "markdown",
   "id": "825630a3-c4b6-4958-99eb-26a3697e4389",
   "metadata": {},
   "source": [
    "# Install Ceph"
   ]
  },
  {
   "cell_type": "code",
   "execution_count": null,
   "id": "8dfd02a6-c306-482b-b904-d0b851dbbd91",
   "metadata": {},
   "outputs": [],
   "source": [
    "for r in rList:\n",
    "    r.run(\"sudo yum -y install subscription-manager\")\n",
    "    r.run(\"sudo yum -y install firewalld\")\n",
    "    # r.run(\"sudo subscription-manager repos --enable=rhel-7-server-extras-rpms\")\n",
    "    # r.run(\"sudo yum install -y https://dl.fedoraproject.org/pub/epel/epel-release-latest-7.noarch.rpm\")\n",
    "    \n",
    "    # Add Ceph repo\n",
    "    r.run('cat <<EOF | sudo tee /etc/yum.repos.d/ceph.repo \\n[ceph-noarch] \\nname=Ceph noarch packages \\nbaseurl=https://download.ceph.com/rpm-luminous/el7/noarch \\nenabled=1 \\ngpgcheck=1 \\ntype=rpm-md \\ngpgkey=https://download.ceph.com/keys/release.asc \\nEOF')\n",
    "    r.run(\"sudo yum -y install ceph-deploy\")\n",
    "    \n",
    "    # Setup config\n",
    "    r.run(\"sudo yum -y install ntp ntpdate ntp-doc\")\n",
    "    # r.run(\"sudo ntpdate 0.us.pool.ntp.org\")\n",
    "    # r.run(\"sudo hwclock --systohc\")\n",
    "    # r.run(\"sudo systemctl enable ntpd.service\")\n",
    "    # r.run(\"sudo systemctl start ntpd.service\")\n",
    "    r.run(\"sudo yum -y install openssh-server\")\n",
    "    r.run(f'''sudo bash -c \"echo {local1} node-1 >> /etc/hosts\"''')\n",
    "    r.run(f'''sudo bash -c \"echo {local2} node-2 >> /etc/hosts\"''')\n",
    "    r.run(\"cat <<EOF | sudo tee ~/.ssh/config \\nHost node-1 \\n   Hostname node-1 \\n   User cc \\nHost node-2 \\n   Hostname node-2 \\n   User cc \\nEOF\")\n",
    "    r.run(\"sudo ufw disable\")\n",
    "    # r.run(\"sudo setenforce 0\")\n",
    "    r.run(\"sudo sed -i 's/^SELINUX=enforcing$/SELINUX=disabled/' /etc/selinux/config\")\n",
    "    r.run(\"sudo yum -y install yum-plugin-priorities \")"
   ]
  },
  {
   "cell_type": "markdown",
   "id": "8b4d7350-aef5-4409-af18-b3f02fa0e2a7",
   "metadata": {},
   "source": [
    "# Deploy Ceph"
   ]
  },
  {
   "cell_type": "markdown",
   "id": "c6e55eeb-aa8f-4457-9d27-9b0e8db4c084",
   "metadata": {},
   "source": [
    "1. SSH into the master machine (ip1)\n",
    "2. Run (it will probably fail)\n",
    "```\n",
    "sudo mkdir -p /mnt/extra/ceph_cluster\n",
    "sudo ceph-deploy new node-1 node-2\n",
    "```\n",
    "3. Run\n",
    "```\n",
    "sudo cat /root/.ssh/id_rsa.pub\n",
    "```\n",
    "Copy the public key\n",
    "4. SSH into cc@\\<ip2\\>\n",
    "5. Append ~/.ssh/authorized_keys with the copied public key\n",
    "6. Run\n",
    "```\n",
    "sudo ceph-deploy new node-1 node-2\n",
    "```"
   ]
  },
  {
   "cell_type": "code",
   "execution_count": null,
   "id": "1fc21757-8152-4cd0-8213-8ec6ca2cb171",
   "metadata": {},
   "outputs": [],
   "source": [
    "for r in rList:\n",
    "    r.run(\"sudo mv /etc/yum.repos.d/ceph.repo /etc/yum.repos.d/ceph-deploy.repo\")\n",
    "\n",
    "with r1.cd(\"/mnt/extra/ceph_cluster\"):\n",
    "    r1.sudo(\"ceph-deploy install --release luminous node-1 node-2\")\n",
    "    \n",
    "for r in rList:\n",
    "    r.run(f'''sudo sed -i \"s|return TYPE == 'disk'|return TYPE == 'disk' or TYPE == 'loop' or TYPE == 'part'|g\" /usr/lib/python2.7/site-packages/ceph_volume/util/disk.py''')\n",
    "    r.run(f'''cat /usr/lib/python2.7/site-packages/ceph_volume/util/disk.py | grep \"TYPE == 'loop'\"''')\n",
    "\n",
    "with r1.cd(\"/mnt/extra/ceph_cluster\"):\n",
    "    r1.sudo(\"ceph-deploy mon create-initial\")\n",
    "    r1.sudo(\"ceph-deploy admin node-1 node-2\")\n",
    "    r1.sudo(\"ceph-deploy mgr create node-1\")\n",
    "    r1.sudo(\"ceph-deploy mds create node-1 node-2\")\n",
    "\n",
    "for r in rList:\n",
    "    r.run(\"sudo timedatectl set-ntp false\")\n",
    "    r.run(\"sudo ntpdate -u pool.ntp.org\")\n",
    "    r.run(\"sudo timedatectl set-ntp true\")\n",
    "\n",
    "with r1.cd(\"/mnt/extra/ceph_cluster\"):\n",
    "    r1.run(\"ceph-deploy mon create-initial\")\n",
    "    "
   ]
  },
  {
   "cell_type": "markdown",
   "id": "0cc0ce69-7145-4770-9a2c-f789bce8f6bd",
   "metadata": {},
   "source": [
    "# Create OSDs"
   ]
  },
  {
   "cell_type": "code",
   "execution_count": null,
   "id": "690f2a4c-82b9-4bac-8a5f-7d51bb0df205",
   "metadata": {},
   "outputs": [],
   "source": [
    "with r1.cd(\"/mnt/extra/ceph_cluster\"):\n",
    "    r1.sudo(\"ceph-deploy osd create --data /dev/loop1 node-1\")\n",
    "    r1.sudo(\"ceph-deploy osd create --data /dev/loop2 node-1\")\n",
    "    r1.sudo(\"ceph-deploy osd create --data /dev/loop3 node-1\")\n",
    "    r1.sudo(\"ceph-deploy osd create --data /dev/loop1 node-2\")\n",
    "    r1.sudo(\"ceph-deploy osd create --data /dev/loop2 node-2\")\n",
    "    r1.sudo(\"ceph-deploy osd create --data /dev/loop3 node-2\")\n",
    "    r1.run(\"sudo ceph osd pool create mypool 100 100 replicated\")\n",
    "    r1.run(\"sudo ceph osd pool application enable mypool rgw\")\n",
    "    r1.run(\"sudo ceph status\")\n"
   ]
  },
  {
   "cell_type": "markdown",
   "id": "f6f40e41-deed-4600-87e7-b15af8844dde",
   "metadata": {},
   "source": [
    "# Ceph Dashboard"
   ]
  },
  {
   "cell_type": "code",
   "execution_count": null,
   "id": "802ad0fe-e1f0-438e-8af4-c5dea5283eb1",
   "metadata": {},
   "outputs": [],
   "source": [
    "with r1.cd(\"/mnt/extra/ceph_cluster\"):\n",
    "    r1.run(\"sudo ceph mgr module enable dashboard\")\n",
    "    r1.run(\"sudo ceph mgr services\")"
   ]
  },
  {
   "cell_type": "markdown",
   "id": "eb742767-854f-4cc7-a91b-0bdfece6646b",
   "metadata": {},
   "source": [
    "# Start Rados Gateway (RGW)"
   ]
  },
  {
   "cell_type": "code",
   "execution_count": null,
   "id": "cbe1082d-caf2-49a8-bb7b-028e10d1daaa",
   "metadata": {},
   "outputs": [],
   "source": [
    "r1.run(\"sudo yum -y install ceph-radosgw\")\n",
    "r1.run(\"sudo yum -y install radosgw-agent\")\n",
    "r1.run(\"sudo ceph-authtool --create-keyring /etc/ceph/ceph.client.radosgw.keyring\")\n",
    "r1.run(\"sudo chmod +r /etc/ceph/ceph.client.radosgw.keyring\")\n",
    "r1.run(\"sudo ceph-authtool /etc/ceph/ceph.client.radosgw.keyring -n client.radosgw.node-1 --gen-key\")\n",
    "r1.run(\"sudo ceph-authtool -n client.radosgw.node-1 --cap osd 'allow rwx' --cap mon 'allow rwx' /etc/ceph/ceph.client.radosgw.keyring\")\n",
    "r1.run(\"sudo ceph -k /etc/ceph/ceph.client.admin.keyring auth add client.radosgw.node-1 -i /etc/ceph/ceph.client.radosgw.keyring\")\n",
    "r1.run(f'''cat <<EOF | sudo tee -a /etc/ceph/ceph.conf \\n[client.radosgw.node-1] \\nhost = node-1 \\nkeyring = /etc/ceph/ceph.client.radosgw.keyring \\nrgw socket path = \"\" \\nlog file = /var/log/radosgw/client.radosgw.node-1.log \\nrgw frontends = \"civetweb port=8080\" \\nrgw print continue = false \\nEOF''')\n",
    "r1.run(\"ceph-deploy --overwrite-conf config pull node-1\")\n",
    "r1.run(\"ceph-deploy --overwrite-conf config push node-2\")\n",
    "r1.run(\"sudo mkdir -p /var/lib/ceph/radosgw/ceph-radosgw.node-1\")\n",
    "r1.run(\"sudo mkdir -p /var/log/radosgw/\")\n",
    "r1.run(\"sudo chown cc /var/run/ceph\")\n",
    "r1.run(\"sudo chown cc /var/log/radosgw/\")\n",
    "r1.run(\"sudo systemctl start ceph-radosgw@radosgw.node-1\")\n",
    "r1.run(\"sudo systemctl status ceph-radosgw@radosgw.node-1\")\n",
    "\n",
    "r1.run(\"curl node-1:8080\")\n"
   ]
  },
  {
   "cell_type": "markdown",
   "id": "32c8d090-5bb3-4d65-8312-db15068453fe",
   "metadata": {},
   "source": [
    "# Create S3 Credential"
   ]
  },
  {
   "cell_type": "code",
   "execution_count": null,
   "id": "52201475-38dd-47cb-a48e-0113ee6fc1c4",
   "metadata": {},
   "outputs": [],
   "source": [
    "r1.run(f'''sudo radosgw-admin user create --uid=\"testuser\" --display-name=\"First User\"''')\n",
    "r1.run(\"sudo radosgw-admin user list\")\n",
    "r1.run(\"sudo radosgw-admin user info --uid=testuser\")"
   ]
  },
  {
   "cell_type": "code",
   "execution_count": null,
   "id": "75961c34-24c7-4e2d-9434-b036403121bf",
   "metadata": {},
   "outputs": [],
   "source": [
    "accessKey=\"\"\n",
    "secretKey=\"\""
   ]
  },
  {
   "cell_type": "markdown",
   "id": "c9ddc48b-d04a-40d4-9437-bf6850cf3363",
   "metadata": {},
   "source": [
    "# Benchmark"
   ]
  },
  {
   "cell_type": "markdown",
   "id": "ca9efc3d-1054-4257-9f89-612078555bc3",
   "metadata": {},
   "source": [
    "## HSBench"
   ]
  },
  {
   "cell_type": "code",
   "execution_count": null,
   "id": "17f26f0e-4151-4b16-af68-e33c2bfb6e60",
   "metadata": {},
   "outputs": [],
   "source": [
    "r1.run(\"sudo yum -y install jq\")\n",
    "r1.run(\"sudo yum install -y go\")\n",
    "r1.run(\"sudo go install github.com/aws/aws-sdk-go@latest\")\n",
    "r1.run(\"sudo go install github.com/markhpc/hsbench@latest \")\n",
    "\n",
    "with r1.cd(\"/root/go/bin\"):\n",
    "    r1.sudo(f'''IP=`ifconfig | grep \"inet 10\" | awk '{print $2}'`''')\n",
    "    r1.sudo(\"PORT=8080\")\n",
    "    r1.sudo(f'''access_key=\"${accessKey}\"''')\n",
    "    r1.sudo(f'''secret_key=\"${secretKey}\"''')\n",
    "    \n",
    "    r1.sudo(\"./hsbench -a $access_key -s $secret_key -u http://$IP:$PORT  -z 4K -t 1 -n 2000 -b 1 -d -1 -m cxipgdcx -ri 10 -j test.log\")\n",
    "    r1.sudo(\"./hsbench -a $access_key -s $secret_key -u http://$IP:$PORT  -z 8K -t 1 -n 2000 -b 1 -d -1 -m cxipgdcx -ri 10 -j test.log\")\n",
    "    r1.sudo(\"./hsbench -a $access_key -s $secret_key -u http://$IP:$PORT  -z 16K -t 1 -n 2000 -b 1 -d -1 -m cxipgdcx -ri 10 -j test.log\")\n",
    "    r1.sudo(\"./hsbench -a $access_key -s $secret_key -u http://$IP:$PORT  -z 32K -t 1 -n 2000 -b 1 -d -1 -m cxipgdcx -ri 10 -j test.log\")\n",
    "    r1.sudo(\"./hsbench -a $access_key -s $secret_key -u http://$IP:$PORT  -z 64K -t 1 -n 2000 -b 1 -d -1 -m cxipgdcx -ri 10 -j test.log\")\n",
    "    r1.sudo(\"./hsbench -a $access_key -s $secret_key -u http://$IP:$PORT  -z 128K -t 1 -n 2000 -b 1 -d -1 -m cxipgdcx -ri 10 -j test.log\")\n",
    "    r1.sudo(\"./hsbench -a $access_key -s $secret_key -u http://$IP:$PORT  -z 256K -t 1 -n 2000 -b 1 -d -1 -m cxipgdcx -ri 10 -j test.log\")\n",
    "    r1.sudo(\"./hsbench -a $access_key -s $secret_key -u http://$IP:$PORT  -z 512K -t 1 -n 2000 -b 1 -d -1 -m cxipgdcx -ri 10 -j test.log\")\n",
    "    r1.sudo(\"./hsbench -a $access_key -s $secret_key -u http://$IP:$PORT  -z 1M -t 1 -n 2000 -b 1 -d -1 -m cxipgdcx -ri 10 -j test.log\")\n",
    "    r1.sudo(\"./hsbench -a $access_key -s $secret_key -u http://$IP:$PORT  -z 2M -t 1 -n 2000 -b 1 -d -1 -m cxipgdcx -ri 10 -j test.log\")\n",
    "    r1.sudo(\"./hsbench -a $access_key -s $secret_key -u http://$IP:$PORT  -z 4M -t 1 -n 2000 -b 1 -d -1 -m cxipgdcx -ri 10 -j test.log\")\n",
    "    \n",
    "    r1.sudo(\"\")\n"
   ]
  },
  {
   "cell_type": "markdown",
   "id": "07a97933-cdd4-47a7-b4ae-8f6e018822e4",
   "metadata": {},
   "source": [
    "## Librados"
   ]
  },
  {
   "cell_type": "code",
   "execution_count": null,
   "id": "2f46eb70-6fc8-4b08-ae79-b922cc284543",
   "metadata": {},
   "outputs": [],
   "source": [
    "r1.run(\"sudo yum install librados2-devel\")\n",
    "r1.run(\"git clone https://github.com/dParikesit/ceph-benchmark.git\")\n",
    "with r1.cd(\"ceph-benchmark\"):\n",
    "    r1.run(\"g++ -std=c++11 -g -c ceph-client.cpp -o ceph-client.o\")\n",
    "    r1.run(\"g++ -std=c++11 -g ceph-client.o -lrados -o ceph-client\")\n",
    "    r1.run(\"sudo ./ceph-client\")\n"
   ]
  },
  {
   "cell_type": "markdown",
   "id": "6a8d426e-f8a1-4063-ab86-60cf211be201",
   "metadata": {},
   "source": [
    "# Use the API\n",
    "\n",
    "Open 2 terminals\n",
    "\n",
    "In the first terminal, run   \n",
    "`kubectl port-forward pod/minio -n minio-dev 9000 9090`\n",
    "\n",
    "In the second terminal do anything with these credential  \n",
    "API endpoint = 127.0.0.1:9000  \n",
    "Access key = 'minioadmin'  \n",
    "Access secret = 'minioadmin'  "
   ]
  },
  {
   "cell_type": "code",
   "execution_count": null,
   "id": "3040f5e6-69e6-4869-b54b-e7a93a01029b",
   "metadata": {},
   "outputs": [],
   "source": []
  }
 ],
 "metadata": {
  "kernelspec": {
   "display_name": "Python 3 (ipykernel)",
   "language": "python",
   "name": "python3"
  },
  "language_info": {
   "codemirror_mode": {
    "name": "ipython",
    "version": 3
   },
   "file_extension": ".py",
   "mimetype": "text/x-python",
   "name": "python",
   "nbconvert_exporter": "python",
   "pygments_lexer": "ipython3",
   "version": "3.9.7"
  }
 },
 "nbformat": 4,
 "nbformat_minor": 5
}
